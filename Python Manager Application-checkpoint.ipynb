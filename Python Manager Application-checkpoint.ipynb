{
 "cells": [
  {
   "cell_type": "code",
   "execution_count": 1,
   "id": "15259efb-55b8-4522-9d57-7627a8942712",
   "metadata": {},
   "outputs": [
    {
     "name": "stdout",
     "output_type": "stream",
     "text": [
      "\n",
      "YouTube Manager | Choose an option\n",
      "1. List all YouTube videos\n",
      "2. Add a YouTube video\n",
      "3. Update a YouTube video\n",
      "4. Delete a YouTube video\n",
      "5. Search for a YouTube video\n",
      "6. Exit the app\n"
     ]
    },
    {
     "name": "stdin",
     "output_type": "stream",
     "text": [
      "Enter your choice:  1\n"
     ]
    },
    {
     "name": "stdout",
     "output_type": "stream",
     "text": [
      "\n",
      "\n",
      "======================================================================\n",
      "No videos available.\n",
      "======================================================================\n",
      "\n",
      "\n",
      "\n",
      "YouTube Manager | Choose an option\n",
      "1. List all YouTube videos\n",
      "2. Add a YouTube video\n",
      "3. Update a YouTube video\n",
      "4. Delete a YouTube video\n",
      "5. Search for a YouTube video\n",
      "6. Exit the app\n"
     ]
    },
    {
     "name": "stdin",
     "output_type": "stream",
     "text": [
      "Enter your choice:  2\n",
      "Enter video name:  Trishula gaming\n",
      "Enter video time:  18 mins\n"
     ]
    },
    {
     "name": "stdout",
     "output_type": "stream",
     "text": [
      "Data saved successfully.\n",
      "\n",
      "YouTube Manager | Choose an option\n",
      "1. List all YouTube videos\n",
      "2. Add a YouTube video\n",
      "3. Update a YouTube video\n",
      "4. Delete a YouTube video\n",
      "5. Search for a YouTube video\n",
      "6. Exit the app\n"
     ]
    },
    {
     "name": "stdin",
     "output_type": "stream",
     "text": [
      "Enter your choice:  1\n"
     ]
    },
    {
     "name": "stdout",
     "output_type": "stream",
     "text": [
      "\n",
      "\n",
      "======================================================================\n",
      "1. Trishula gaming | Duration: 18 mins\n",
      "======================================================================\n",
      "\n",
      "\n",
      "\n",
      "YouTube Manager | Choose an option\n",
      "1. List all YouTube videos\n",
      "2. Add a YouTube video\n",
      "3. Update a YouTube video\n",
      "4. Delete a YouTube video\n",
      "5. Search for a YouTube video\n",
      "6. Exit the app\n"
     ]
    },
    {
     "name": "stdin",
     "output_type": "stream",
     "text": [
      "Enter your choice:  2\n",
      "Enter video name:  Python code\n",
      "Enter video time:  28 mins\n"
     ]
    },
    {
     "name": "stdout",
     "output_type": "stream",
     "text": [
      "Data saved successfully.\n",
      "\n",
      "YouTube Manager | Choose an option\n",
      "1. List all YouTube videos\n",
      "2. Add a YouTube video\n",
      "3. Update a YouTube video\n",
      "4. Delete a YouTube video\n",
      "5. Search for a YouTube video\n",
      "6. Exit the app\n"
     ]
    },
    {
     "name": "stdin",
     "output_type": "stream",
     "text": [
      "Enter your choice:  1\n"
     ]
    },
    {
     "name": "stdout",
     "output_type": "stream",
     "text": [
      "\n",
      "\n",
      "======================================================================\n",
      "1. Trishula gaming | Duration: 18 mins\n",
      "2. Python code | Duration: 28 mins\n",
      "======================================================================\n",
      "\n",
      "\n",
      "\n",
      "YouTube Manager | Choose an option\n",
      "1. List all YouTube videos\n",
      "2. Add a YouTube video\n",
      "3. Update a YouTube video\n",
      "4. Delete a YouTube video\n",
      "5. Search for a YouTube video\n",
      "6. Exit the app\n"
     ]
    },
    {
     "name": "stdin",
     "output_type": "stream",
     "text": [
      "Enter your choice:  2\n",
      "Enter video name:  Chai aur code\n",
      "Enter video time:  50 mins\n"
     ]
    },
    {
     "name": "stdout",
     "output_type": "stream",
     "text": [
      "Data saved successfully.\n",
      "\n",
      "YouTube Manager | Choose an option\n",
      "1. List all YouTube videos\n",
      "2. Add a YouTube video\n",
      "3. Update a YouTube video\n",
      "4. Delete a YouTube video\n",
      "5. Search for a YouTube video\n",
      "6. Exit the app\n"
     ]
    },
    {
     "name": "stdin",
     "output_type": "stream",
     "text": [
      "Enter your choice:  1\n"
     ]
    },
    {
     "name": "stdout",
     "output_type": "stream",
     "text": [
      "\n",
      "\n",
      "======================================================================\n",
      "1. Trishula gaming | Duration: 18 mins\n",
      "2. Python code | Duration: 28 mins\n",
      "3. Chai aur code | Duration: 50 mins\n",
      "======================================================================\n",
      "\n",
      "\n",
      "\n",
      "YouTube Manager | Choose an option\n",
      "1. List all YouTube videos\n",
      "2. Add a YouTube video\n",
      "3. Update a YouTube video\n",
      "4. Delete a YouTube video\n",
      "5. Search for a YouTube video\n",
      "6. Exit the app\n"
     ]
    },
    {
     "name": "stdin",
     "output_type": "stream",
     "text": [
      "Enter your choice:  2\n",
      "Enter video name:  Code with harry\n",
      "Enter video time:  30 mins\n"
     ]
    },
    {
     "name": "stdout",
     "output_type": "stream",
     "text": [
      "Data saved successfully.\n",
      "\n",
      "YouTube Manager | Choose an option\n",
      "1. List all YouTube videos\n",
      "2. Add a YouTube video\n",
      "3. Update a YouTube video\n",
      "4. Delete a YouTube video\n",
      "5. Search for a YouTube video\n",
      "6. Exit the app\n"
     ]
    },
    {
     "name": "stdin",
     "output_type": "stream",
     "text": [
      "Enter your choice:  1\n"
     ]
    },
    {
     "name": "stdout",
     "output_type": "stream",
     "text": [
      "\n",
      "\n",
      "======================================================================\n",
      "1. Trishula gaming | Duration: 18 mins\n",
      "2. Python code | Duration: 28 mins\n",
      "3. Chai aur code | Duration: 50 mins\n",
      "4. Code with harry | Duration: 30 mins\n",
      "======================================================================\n",
      "\n",
      "\n",
      "\n",
      "YouTube Manager | Choose an option\n",
      "1. List all YouTube videos\n",
      "2. Add a YouTube video\n",
      "3. Update a YouTube video\n",
      "4. Delete a YouTube video\n",
      "5. Search for a YouTube video\n",
      "6. Exit the app\n"
     ]
    },
    {
     "name": "stdin",
     "output_type": "stream",
     "text": [
      "Enter your choice:  5\n",
      "Enter the video name to search:  code with harry\n"
     ]
    },
    {
     "name": "stdout",
     "output_type": "stream",
     "text": [
      "\n",
      "\n",
      "======================================================================\n",
      "1. Code with harry | Duration: 30 mins\n",
      "======================================================================\n",
      "\n",
      "\n",
      "\n",
      "YouTube Manager | Choose an option\n",
      "1. List all YouTube videos\n",
      "2. Add a YouTube video\n",
      "3. Update a YouTube video\n",
      "4. Delete a YouTube video\n",
      "5. Search for a YouTube video\n",
      "6. Exit the app\n"
     ]
    },
    {
     "name": "stdin",
     "output_type": "stream",
     "text": [
      "Enter your choice:  3\n"
     ]
    },
    {
     "name": "stdout",
     "output_type": "stream",
     "text": [
      "\n",
      "\n",
      "======================================================================\n",
      "1. Trishula gaming | Duration: 18 mins\n",
      "2. Python code | Duration: 28 mins\n",
      "3. Chai aur code | Duration: 50 mins\n",
      "4. Code with harry | Duration: 30 mins\n",
      "======================================================================\n",
      "\n",
      "\n"
     ]
    },
    {
     "name": "stdin",
     "output_type": "stream",
     "text": [
      "Enter the video number to update:  2\n",
      "Enter the new video name:  python code\n",
      "Enter the new video time:  28 mins\n"
     ]
    },
    {
     "name": "stdout",
     "output_type": "stream",
     "text": [
      "Data saved successfully.\n",
      "\n",
      "YouTube Manager | Choose an option\n",
      "1. List all YouTube videos\n",
      "2. Add a YouTube video\n",
      "3. Update a YouTube video\n",
      "4. Delete a YouTube video\n",
      "5. Search for a YouTube video\n",
      "6. Exit the app\n"
     ]
    },
    {
     "name": "stdin",
     "output_type": "stream",
     "text": [
      "Enter your choice:  1\n"
     ]
    },
    {
     "name": "stdout",
     "output_type": "stream",
     "text": [
      "\n",
      "\n",
      "======================================================================\n",
      "1. Trishula gaming | Duration: 18 mins\n",
      "2. python code | Duration: 28 mins\n",
      "3. Chai aur code | Duration: 50 mins\n",
      "4. Code with harry | Duration: 30 mins\n",
      "======================================================================\n",
      "\n",
      "\n",
      "\n",
      "YouTube Manager | Choose an option\n",
      "1. List all YouTube videos\n",
      "2. Add a YouTube video\n",
      "3. Update a YouTube video\n",
      "4. Delete a YouTube video\n",
      "5. Search for a YouTube video\n",
      "6. Exit the app\n"
     ]
    },
    {
     "name": "stdin",
     "output_type": "stream",
     "text": [
      "Enter your choice:  1\n"
     ]
    },
    {
     "name": "stdout",
     "output_type": "stream",
     "text": [
      "\n",
      "\n",
      "======================================================================\n",
      "1. Trishula gaming | Duration: 18 mins\n",
      "2. python code | Duration: 28 mins\n",
      "3. Chai aur code | Duration: 50 mins\n",
      "4. Code with harry | Duration: 30 mins\n",
      "======================================================================\n",
      "\n",
      "\n",
      "\n",
      "YouTube Manager | Choose an option\n",
      "1. List all YouTube videos\n",
      "2. Add a YouTube video\n",
      "3. Update a YouTube video\n",
      "4. Delete a YouTube video\n",
      "5. Search for a YouTube video\n",
      "6. Exit the app\n"
     ]
    },
    {
     "name": "stdin",
     "output_type": "stream",
     "text": [
      "Enter your choice:  3\n"
     ]
    },
    {
     "name": "stdout",
     "output_type": "stream",
     "text": [
      "\n",
      "\n",
      "======================================================================\n",
      "1. Trishula gaming | Duration: 18 mins\n",
      "2. python code | Duration: 28 mins\n",
      "3. Chai aur code | Duration: 50 mins\n",
      "4. Code with harry | Duration: 30 mins\n",
      "======================================================================\n",
      "\n",
      "\n"
     ]
    },
    {
     "name": "stdin",
     "output_type": "stream",
     "text": [
      "Enter the video number to update:  2\n",
      "Enter the new video name:  python code\n",
      "Enter the new video time:  40 mins\n"
     ]
    },
    {
     "name": "stdout",
     "output_type": "stream",
     "text": [
      "Data saved successfully.\n",
      "\n",
      "YouTube Manager | Choose an option\n",
      "1. List all YouTube videos\n",
      "2. Add a YouTube video\n",
      "3. Update a YouTube video\n",
      "4. Delete a YouTube video\n",
      "5. Search for a YouTube video\n",
      "6. Exit the app\n"
     ]
    },
    {
     "name": "stdin",
     "output_type": "stream",
     "text": [
      "Enter your choice:  1\n"
     ]
    },
    {
     "name": "stdout",
     "output_type": "stream",
     "text": [
      "\n",
      "\n",
      "======================================================================\n",
      "1. Trishula gaming | Duration: 18 mins\n",
      "2. python code | Duration: 40 mins\n",
      "3. Chai aur code | Duration: 50 mins\n",
      "4. Code with harry | Duration: 30 mins\n",
      "======================================================================\n",
      "\n",
      "\n",
      "\n",
      "YouTube Manager | Choose an option\n",
      "1. List all YouTube videos\n",
      "2. Add a YouTube video\n",
      "3. Update a YouTube video\n",
      "4. Delete a YouTube video\n",
      "5. Search for a YouTube video\n",
      "6. Exit the app\n"
     ]
    },
    {
     "name": "stdin",
     "output_type": "stream",
     "text": [
      "Enter your choice:  4\n"
     ]
    },
    {
     "name": "stdout",
     "output_type": "stream",
     "text": [
      "\n",
      "\n",
      "======================================================================\n",
      "1. Trishula gaming | Duration: 18 mins\n",
      "2. python code | Duration: 40 mins\n",
      "3. Chai aur code | Duration: 50 mins\n",
      "4. Code with harry | Duration: 30 mins\n",
      "======================================================================\n",
      "\n",
      "\n"
     ]
    },
    {
     "name": "stdin",
     "output_type": "stream",
     "text": [
      "Enter the video number to delete:  4\n"
     ]
    },
    {
     "name": "stdout",
     "output_type": "stream",
     "text": [
      "Data saved successfully.\n",
      "\n",
      "YouTube Manager | Choose an option\n",
      "1. List all YouTube videos\n",
      "2. Add a YouTube video\n",
      "3. Update a YouTube video\n",
      "4. Delete a YouTube video\n",
      "5. Search for a YouTube video\n",
      "6. Exit the app\n"
     ]
    },
    {
     "name": "stdin",
     "output_type": "stream",
     "text": [
      "Enter your choice:  1\n"
     ]
    },
    {
     "name": "stdout",
     "output_type": "stream",
     "text": [
      "\n",
      "\n",
      "======================================================================\n",
      "1. Trishula gaming | Duration: 18 mins\n",
      "2. python code | Duration: 40 mins\n",
      "3. Chai aur code | Duration: 50 mins\n",
      "======================================================================\n",
      "\n",
      "\n",
      "\n",
      "YouTube Manager | Choose an option\n",
      "1. List all YouTube videos\n",
      "2. Add a YouTube video\n",
      "3. Update a YouTube video\n",
      "4. Delete a YouTube video\n",
      "5. Search for a YouTube video\n",
      "6. Exit the app\n"
     ]
    },
    {
     "name": "stdin",
     "output_type": "stream",
     "text": [
      "Enter your choice:  1\n"
     ]
    },
    {
     "name": "stdout",
     "output_type": "stream",
     "text": [
      "\n",
      "\n",
      "======================================================================\n",
      "1. Trishula gaming | Duration: 18 mins\n",
      "2. python code | Duration: 40 mins\n",
      "3. Chai aur code | Duration: 50 mins\n",
      "======================================================================\n",
      "\n",
      "\n",
      "\n",
      "YouTube Manager | Choose an option\n",
      "1. List all YouTube videos\n",
      "2. Add a YouTube video\n",
      "3. Update a YouTube video\n",
      "4. Delete a YouTube video\n",
      "5. Search for a YouTube video\n",
      "6. Exit the app\n"
     ]
    },
    {
     "name": "stdin",
     "output_type": "stream",
     "text": [
      "Enter your choice:  6\n"
     ]
    },
    {
     "name": "stdout",
     "output_type": "stream",
     "text": [
      "Exiting the app. Goodbye!\n"
     ]
    }
   ],
   "source": [
    "import json\n",
    "\n",
    "def load_data():\n",
    "    try:\n",
    "        with open('youtube.txt', 'r') as file:\n",
    "            return json.load(file)\n",
    "    except FileNotFoundError:\n",
    "        return []\n",
    "\n",
    "def save_data_helper(videos):\n",
    "    with open('youtube.txt', 'w') as file:\n",
    "        json.dump(videos, file)\n",
    "    print(\"Data saved successfully.\")\n",
    "\n",
    "def list_all_videos(videos):\n",
    "    print(\"\\n\")\n",
    "    print(\"=\" * 70)\n",
    "    if not videos:\n",
    "        print(\"No videos available.\")\n",
    "    else:\n",
    "        for index, video in enumerate(videos, start=1):\n",
    "            print(f\"{index}. {video['name']} | Duration: {video['time']}\")\n",
    "    print(\"=\" * 70)\n",
    "    print(\"\\n\")\n",
    "\n",
    "def add_video(videos):\n",
    "    name = input(\"Enter video name: \").strip()\n",
    "    time = input(\"Enter video time: \").strip()\n",
    "    videos.append({'name': name, 'time': time})\n",
    "    save_data_helper(videos)\n",
    "\n",
    "def update_video(videos):\n",
    "    list_all_videos(videos)\n",
    "    try:\n",
    "        index = int(input(\"Enter the video number to update: \"))\n",
    "        if 1 <= index <= len(videos):\n",
    "            name = input(\"Enter the new video name: \").strip()\n",
    "            time = input(\"Enter the new video time: \").strip()\n",
    "            videos[index-1] = {'name': name, 'time': time}\n",
    "            save_data_helper(videos)\n",
    "        else:\n",
    "            print(\"Invalid index selected.\")\n",
    "    except ValueError:\n",
    "        print(\"Please enter a valid number.\")\n",
    "\n",
    "def delete_video(videos):\n",
    "    list_all_videos(videos)\n",
    "    try:\n",
    "        index = int(input(\"Enter the video number to delete: \"))\n",
    "        if 1 <= index <= len(videos):\n",
    "            del videos[index-1]\n",
    "            save_data_helper(videos)\n",
    "        else:\n",
    "            print(\"Invalid index selected.\")\n",
    "    except ValueError:\n",
    "        print(\"Please enter a valid number.\")\n",
    "\n",
    "def search_video(videos):\n",
    "    search_term = input(\"Enter the video name to search: \").strip().lower()\n",
    "    found_videos = [video for video in videos if search_term in video['name'].lower()]\n",
    "    print(\"\\n\")\n",
    "    print(\"=\" * 70)\n",
    "    if found_videos:\n",
    "        for index, video in enumerate(found_videos, start=1):\n",
    "            print(f\"{index}. {video['name']} | Duration: {video['time']}\")\n",
    "    else:\n",
    "        print(\"No videos found.\")\n",
    "    print(\"=\" * 70)\n",
    "    print(\"\\n\")\n",
    "\n",
    "def main():\n",
    "    videos = load_data()\n",
    "    while True:\n",
    "        print(\"\\nYouTube Manager | Choose an option\")\n",
    "        print(\"1. List all YouTube videos\")\n",
    "        print(\"2. Add a YouTube video\")\n",
    "        print(\"3. Update a YouTube video\")\n",
    "        print(\"4. Delete a YouTube video\")\n",
    "        print(\"5. Search for a YouTube video\")\n",
    "        print(\"6. Exit the app\")\n",
    "        choice = input(\"Enter your choice: \").strip()\n",
    "\n",
    "        match choice:\n",
    "            case '1':\n",
    "                list_all_videos(videos)\n",
    "            case '2':\n",
    "                add_video(videos)\n",
    "            case '3':\n",
    "                update_video(videos)\n",
    "            case '4':\n",
    "                delete_video(videos)\n",
    "            case '5':\n",
    "                search_video(videos)\n",
    "            case '6':\n",
    "                print(\"Exiting the app. Goodbye!\")\n",
    "                break\n",
    "            case _:\n",
    "                print(\"Invalid choice, please try again.\")\n",
    "\n",
    "if __name__ == \"__main__\":\n",
    "    main()\n"
   ]
  },
  {
   "cell_type": "code",
   "execution_count": null,
   "id": "fe7e3bfc-c48f-43da-a444-4432b7ebffa2",
   "metadata": {},
   "outputs": [],
   "source": []
  },
  {
   "cell_type": "code",
   "execution_count": null,
   "id": "db132220-b9c0-4f4c-b00b-c1a040f71288",
   "metadata": {},
   "outputs": [],
   "source": []
  }
 ],
 "metadata": {
  "kernelspec": {
   "display_name": "Python 3 (ipykernel)",
   "language": "python",
   "name": "python3"
  },
  "language_info": {
   "codemirror_mode": {
    "name": "ipython",
    "version": 3
   },
   "file_extension": ".py",
   "mimetype": "text/x-python",
   "name": "python",
   "nbconvert_exporter": "python",
   "pygments_lexer": "ipython3",
   "version": "3.11.4"
  }
 },
 "nbformat": 4,
 "nbformat_minor": 5
}
